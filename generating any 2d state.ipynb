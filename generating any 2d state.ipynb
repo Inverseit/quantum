{
 "cells": [
  {
   "cell_type": "code",
   "execution_count": 1,
   "id": "8e1a4366",
   "metadata": {},
   "outputs": [],
   "source": [
    "#initialization\n",
    "import matplotlib.pyplot as plt\n",
    "import numpy as np\n",
    "import math\n",
    "\n",
    "# importing Qiskit\n",
    "from qiskit import IBMQ, Aer, assemble, transpile\n",
    "from qiskit import QuantumCircuit, ClassicalRegister, QuantumRegister\n",
    "from qiskit.providers.ibmq import least_busy\n",
    "from qiskit.circuit.library import RYGate\n",
    "\n",
    "# import basic plot tools\n",
    "from qiskit.visualization import plot_histogram\n",
    "from qiskit_textbook.tools import vector2latex\n",
    "import qiskit.quantum_info as qi\n",
    "from qiskit.circuit.library import CSwapGate\n",
    "from qiskit.circuit.library import RYGate"
   ]
  },
  {
   "cell_type": "code",
   "execution_count": 112,
   "id": "21fb2b78",
   "metadata": {},
   "outputs": [],
   "source": [
    "x, y = 0.3, 0.1\n",
    "theta = np.arccos(x)\n",
    "U = RYGate(theta * 2)"
   ]
  },
  {
   "cell_type": "code",
   "execution_count": 113,
   "id": "7b53563d",
   "metadata": {},
   "outputs": [
    {
     "data": {
      "text/latex": [
       "$$\\frac{3}{10} |0\\rangle+\\frac{\\sqrt{91}}{10} |1\\rangle$$"
      ],
      "text/plain": [
       "<IPython.core.display.Latex object>"
      ]
     },
     "execution_count": 113,
     "metadata": {},
     "output_type": "execute_result"
    }
   ],
   "source": [
    "qc = QuantumCircuit(1,1)\n",
    "qc.append(U, [0])\n",
    "state = qi.Statevector.from_instruction(qc)\n",
    "qc.measure(0, 0)\n",
    "qc.draw(\"mpl\")\n",
    "state.draw(\"latex\")"
   ]
  },
  {
   "cell_type": "code",
   "execution_count": 13,
   "id": "099856a6",
   "metadata": {},
   "outputs": [],
   "source": [
    "def run_experiment(circuit):\n",
    "    aer_sim = Aer.get_backend('aer_simulator')\n",
    "    transpiled_circuit = transpile(circuit, aer_sim)\n",
    "    qobj = assemble(transpiled_circuit)\n",
    "    results = aer_sim.run(qobj, shots=8192).result()\n",
    "    counts = results.get_counts()\n",
    "    display(plot_histogram(counts))\n",
    "    return counts"
   ]
  },
  {
   "cell_type": "code",
   "execution_count": 17,
   "id": "6cc1c94f",
   "metadata": {},
   "outputs": [
    {
     "data": {
      "image/png": "[encoded data removed]",
      "text/plain": [
       "<Figure size 504x360 with 1 Axes>"
      ]
     },
     "metadata": {},
     "output_type": "display_data"
    },
    {
     "data": {
      "text/plain": [
       "{'1': 5227, '0': 2965}"
      ]
     },
     "execution_count": 17,
     "metadata": {},
     "output_type": "execute_result"
    }
   ],
   "source": [
    "run_experiment(qc)"
   ]
  },
  {
   "cell_type": "code",
   "execution_count": 67,
   "id": "5359193a",
   "metadata": {},
   "outputs": [],
   "source": [
    "def gate_from_state(a, b):\n",
    "    norm = math.sqrt(a ** 2 + b ** 2)\n",
    "    x, y = a / norm, b / norm\n",
    "    if y >= 0:\n",
    "        theta = np.arccos(x)\n",
    "    elif x <= 0 and y <= 0:\n",
    "        theta = 2 * np.pi - np.arccos(x)\n",
    "    elif x >= 0 and y <= 0:\n",
    "        theta = 2 * np.pi - np.arccos(x)\n",
    "    U = RYGate(theta * 2) \n",
    "    U = RYGate(theta * 2)\n",
    "    return U"
   ]
  },
  {
   "cell_type": "code",
   "execution_count": 182,
   "id": "fe3e62b5",
   "metadata": {},
   "outputs": [],
   "source": [
    "def run_experiment(circuit, verbose = False):\n",
    "    aer_sim = Aer.get_backend('aer_simulator')\n",
    "    transpiled_circuit = transpile(circuit, aer_sim)\n",
    "    qobj = assemble(transpiled_circuit)\n",
    "    results = aer_sim.run(qobj, shots=50000).result()\n",
    "    counts = results.get_counts()\n",
    "    if verbose:\n",
    "        display(plot_histogram(counts))\n",
    "    return counts\n",
    "\n",
    "def test_gate(gate):\n",
    "    qc = QuantumCircuit(1,1)\n",
    "    qc.append(gate, [0])\n",
    "    n = qi.Statevector.from_instruction(qc)\n",
    "    qc.measure(0, 0)\n",
    "    display(qc.draw(\"mpl\"))\n",
    "    display(n.draw())\n",
    "    run_experiment(qc)"
   ]
  },
  {
   "cell_type": "code",
   "execution_count": 123,
   "id": "631d981a",
   "metadata": {},
   "outputs": [],
   "source": [
    "v = [0.9, 0.3, 0.3, 0.1]"
   ]
  },
  {
   "cell_type": "code",
   "execution_count": 124,
   "id": "76f74b55",
   "metadata": {},
   "outputs": [],
   "source": [
    "a, b, c, d = 0.3, 0.3, 0.9, 0.1"
   ]
  },
  {
   "cell_type": "code",
   "execution_count": 125,
   "id": "614844e7",
   "metadata": {},
   "outputs": [
    {
     "name": "stdout",
     "output_type": "stream",
     "text": [
      "0.4242640687119285 0.9055385138137417\n"
     ]
    },
    {
     "data": {
      "image/png": "[encoded data removed]",
      "text/plain": [
       "<Figure size 193.726x144.48 with 1 Axes>"
      ]
     },
     "metadata": {},
     "output_type": "display_data"
    },
    {
     "data": {
      "text/plain": [
       "'Statevector([0.99388373+0.j, 0.11043153+0.j],\\n            dims=(2,))'"
      ]
     },
     "metadata": {},
     "output_type": "display_data"
    },
    {
     "data": {
      "image/png": "[encoded data removed]",
      "text/plain": [
       "<Figure size 504x360 with 1 Axes>"
      ]
     },
     "metadata": {},
     "output_type": "display_data"
    }
   ],
   "source": []
  },
  {
   "cell_type": "code",
   "execution_count": 126,
   "id": "ef51c12f",
   "metadata": {},
   "outputs": [],
   "source": [
    "U_ab = gate_from_state(a, b)\n",
    "U_ab_inverse = U_ab.inverse()\n",
    "U_cd = gate_from_state(c, d)\n",
    "\n",
    "qr = QuantumCircuit(1)\n",
    "qr.append(U_ab_inverse,[0])\n",
    "qr.append(U_cd,[0])\n",
    "\n",
    "U_ab_cd = qr.to_gate(label =\"ab->cd\")\n",
    "cU_ab_cd = U_ab_cd.control(1)"
   ]
  },
  {
   "cell_type": "code",
   "execution_count": 134,
   "id": "469f648a",
   "metadata": {},
   "outputs": [
    {
     "data": {
      "text/latex": [
       "$$\\frac{3}{10} |00\\rangle+\\frac{9}{10} |01\\rangle+\\frac{3}{10} |10\\rangle+\\frac{1}{10} |11\\rangle$$"
      ],
      "text/plain": [
       "<IPython.core.display.Latex object>"
      ]
     },
     "execution_count": 134,
     "metadata": {},
     "output_type": "execute_result"
    }
   ],
   "source": [
    "main = QuantumCircuit(2)\n",
    "main.append(U_first, [0])\n",
    "main.append(U_ab, [1])\n",
    "main.append(cU_ab_cd, [0, 1])\n",
    "state = qi.Statevector.from_instruction(main)\n",
    "main.draw(\"mpl\")\n",
    "state.draw(\"latex\")"
   ]
  },
  {
   "cell_type": "code",
   "execution_count": 155,
   "id": "901bce63",
   "metadata": {},
   "outputs": [],
   "source": [
    "def create_gate_from_4(x, y, z, t):\n",
    "    norm = math.sqrt(x ** 2 + y ** 2 + z ** 2 + t ** 2)\n",
    "    a, c, b, d = x / norm,  y / norm, z / norm, t / norm\n",
    "    print(a, b, c, d)\n",
    "    ab_norm = math.sqrt(a ** 2 + b ** 2)\n",
    "    cd_norm = math.sqrt(c ** 2 + d ** 2)\n",
    "    U_first = gate_from_state(ab_norm, cd_norm)\n",
    "    U_ab = gate_from_state(a, b)\n",
    "    U_ab_inverse = U_ab.inverse()\n",
    "    \n",
    "    U_cd = gate_from_state(c, d)\n",
    "    \n",
    "    qr = QuantumCircuit(1)\n",
    "    qr.append(U_ab_inverse,[0])\n",
    "    qr.append(U_cd,[0])\n",
    "    U_ab_cd = qr.to_gate(label =\"ab->cd\")\n",
    "    cU_ab_cd = U_ab_cd.control(1)\n",
    "    \n",
    "    main = QuantumCircuit(2)\n",
    "    main.append(U_first, [0])\n",
    "    main.append(U_ab, [1])\n",
    "    main.append(cU_ab_cd, [0, 1])\n",
    "    \n",
    "    return main.to_gate(label = f\"U\")\n"
   ]
  },
  {
   "cell_type": "code",
   "execution_count": 156,
   "id": "e35eebb5",
   "metadata": {},
   "outputs": [
    {
     "name": "stdout",
     "output_type": "stream",
     "text": [
      "0.4745789978762495 0.4745789978762495 0.5694947974514994 0.4745789978762495\n"
     ]
    },
    {
     "data": {
      "image/png": "[encoded data removed]",
      "text/plain": [
       "<Figure size 357.679x204.68 with 1 Axes>"
      ]
     },
     "metadata": {},
     "output_type": "display_data"
    },
    {
     "data": {
      "text/latex": [
       "$$\\frac{5 \\sqrt{111}}{111} |00\\rangle+\\frac{2 \\sqrt{111}}{37} |01\\rangle+\\frac{5 \\sqrt{111}}{111} |10\\rangle+\\frac{5 \\sqrt{111}}{111} |11\\rangle$$"
      ],
      "text/plain": [
       "<IPython.core.display.Latex object>"
      ]
     },
     "metadata": {},
     "output_type": "display_data"
    },
    {
     "data": {
      "image/png": "[encoded data removed]",
      "text/plain": [
       "<Figure size 504x360 with 1 Axes>"
      ]
     },
     "metadata": {},
     "output_type": "display_data"
    },
    {
     "data": {
      "text/plain": [
       "{'01': 16109, '10': 11402, '11': 11216, '00': 11273}"
      ]
     },
     "execution_count": 156,
     "metadata": {},
     "output_type": "execute_result"
    }
   ],
   "source": [
    "g = create_gate_from_4(0.5, 0.6, 0.5, 0.5)\n",
    "test = QuantumCircuit(2)\n",
    "test.append(g, [0, 1])\n",
    "state = qi.Statevector.from_instruction(test)\n",
    "test.measure_all()\n",
    "display(test.draw(\"mpl\"))\n",
    "display(state.draw(\"latex\"))\n",
    "run_experiment(test)"
   ]
  },
  {
   "cell_type": "code",
   "execution_count": 191,
   "id": "30ec8062",
   "metadata": {},
   "outputs": [
    {
     "name": "stdout",
     "output_type": "stream",
     "text": [
      "0.9 0.3 0.1 0.3\n",
      "0.3 0.1 0.3 0.9\n"
     ]
    },
    {
     "data": {
      "image/png": "[encoded data removed]",
      "text/plain": [
       "<Figure size 568.197x385.28 with 1 Axes>"
      ]
     },
     "metadata": {},
     "output_type": "display_data"
    },
    {
     "name": "stdout",
     "output_type": "stream",
     "text": [
      "0.602262401283693\n"
     ]
    }
   ],
   "source": [
    "g9133 = create_gate_from_4(0.9, 0.1, 0.3, 0.3)\n",
    "g3319 = create_gate_from_4(0.3, 0.3, 0.1, 0.9)\n",
    "\n",
    "qc = QuantumCircuit(5, 1)\n",
    "qc.i(0)\n",
    "qc.append(g9133, [1, 2])\n",
    "qc.append(g3319, [3, 4])\n",
    "qc.barrier()\n",
    "qc.h(0)\n",
    "qc.append(CSwapGate(), [0, 1, 3])\n",
    "qc.append(CSwapGate(), [0, 2, 4])\n",
    "qc.h(0)\n",
    "\n",
    "qc.barrier()\n",
    "qc.measure(0, 0)\n",
    "\n",
    "display(qc.draw(\"mpl\"))\n",
    "\n",
    "c = run_experiment(qc)\n",
    "p = c['1'] / (c['0'] + c['1'])\n",
    "squared = 1 - 2 * p\n",
    "print(math.sqrt(squared))"
   ]
  },
  {
   "cell_type": "code",
   "execution_count": 171,
   "id": "610a3dc7",
   "metadata": {},
   "outputs": [
    {
     "name": "stdout",
     "output_type": "stream",
     "text": [
      "0.6\n"
     ]
    }
   ],
   "source": []
  },
  {
   "cell_type": "code",
   "execution_count": null,
   "id": "657f2744",
   "metadata": {},
   "outputs": [],
   "source": [
    "def get_sim_score(v1, v2):\n",
    "    g1 = create_gate_from_4(v1[0], v1[1], v1[2], v1[3])\n",
    "    g2 = create_gate_from_4(v2[0], v2[1], v2[2], v2[3])\n",
    "    qc = QuantumCircuit(5, 1)\n",
    "    qc.i(0)\n",
    "    qc.append(g1, [1, 2])\n",
    "    qc.append(g2, [3, 4])\n",
    "    qc.barrier()\n",
    "    qc.h(0)\n",
    "    qc.append(CSwapGate(), [0, 1, 3])\n",
    "    qc.append(CSwapGate(), [0, 2, 4])\n",
    "    qc.h(0)\n",
    "\n",
    "    qc.barrier()\n",
    "    qc.measure(0, 0)\n",
    "\n",
    "    display(qc.draw(\"mpl\"))\n",
    "\n",
    "    c = run_experiment(qc)\n",
    "    p = c['1'] / (c['0'] + c['1'])\n",
    "    return 1 - 2 * p"
   ]
  }
 ],
 "metadata": {
  "kernelspec": {
   "display_name": "Python 3 (ipykernel)",
   "language": "python",
   "name": "python3"
  },
  "language_info": {
   "codemirror_mode": {
    "name": "ipython",
    "version": 3
   },
   "file_extension": ".py",
   "mimetype": "text/x-python",
   "name": "python",
   "nbconvert_exporter": "python",
   "pygments_lexer": "ipython3",
   "version": "3.10.4"
  }
 },
 "nbformat": 4,
 "nbformat_minor": 5
}
