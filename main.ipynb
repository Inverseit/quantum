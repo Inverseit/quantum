{
 "cells": [
  {
   "cell_type": "code",
   "execution_count": 1,
   "metadata": {},
   "outputs": [
    {
     "name": "stdout",
     "output_type": "stream",
     "text": [
      "Collecting git+https://github.com/qiskit-community/qiskit-textbook.git#subdirectory=qiskit-textbook-src\n",
      "  Cloning https://github.com/qiskit-community/qiskit-textbook.git to /private/var/folders/ry/r90yl__s79q35dhf4kd169vh0000gn/T/pip-req-build-qbqnjgzl\n",
      "  Running command git clone --filter=blob:none --quiet https://github.com/qiskit-community/qiskit-textbook.git /private/var/folders/ry/r90yl__s79q35dhf4kd169vh0000gn/T/pip-req-build-qbqnjgzl\n",
      "  Resolved https://github.com/qiskit-community/qiskit-textbook.git to commit 463cf2f13529c7ac7f6dc09d7808f2731edcb2ef\n",
      "  Preparing metadata (setup.py) ... \u001b[?25ldone\n",
      "\u001b[?25hRequirement already satisfied: qiskit in ./venv/lib/python3.10/site-packages (from qiskit-textbook==0.1.0) (0.34.1)\n",
      "Requirement already satisfied: ipython in ./venv/lib/python3.10/site-packages (from qiskit-textbook==0.1.0) (8.0.1)\n",
      "Collecting ipywidgets\n",
      "  Using cached ipywidgets-7.6.5-py2.py3-none-any.whl (121 kB)\n",
      "Requirement already satisfied: numpy in ./venv/lib/python3.10/site-packages (from qiskit-textbook==0.1.0) (1.22.2)\n",
      "Collecting matplotlib\n",
      "  Downloading matplotlib-3.5.1-cp310-cp310-macosx_11_0_arm64.whl (7.2 MB)\n",
      "\u001b[2K     \u001b[90m━━━━━━━━━━━━━━━━━━━━━━━━━━━━━━━━━━━━━━━━\u001b[0m \u001b[32m7.2/7.2 MB\u001b[0m \u001b[31m2.1 MB/s\u001b[0m eta \u001b[36m0:00:00\u001b[0m00:01\u001b[0m00:01\u001b[0m0m\n",
      "\u001b[?25hRequirement already satisfied: prompt-toolkit!=3.0.0,!=3.0.1,<3.1.0,>=2.0.0 in ./venv/lib/python3.10/site-packages (from ipython->qiskit-textbook==0.1.0) (3.0.27)\n",
      "Requirement already satisfied: traitlets>=5 in ./venv/lib/python3.10/site-packages (from ipython->qiskit-textbook==0.1.0) (5.1.1)\n",
      "Requirement already satisfied: matplotlib-inline in ./venv/lib/python3.10/site-packages (from ipython->qiskit-textbook==0.1.0) (0.1.3)\n",
      "Requirement already satisfied: pexpect>4.3 in ./venv/lib/python3.10/site-packages (from ipython->qiskit-textbook==0.1.0) (4.8.0)\n",
      "Requirement already satisfied: stack-data in ./venv/lib/python3.10/site-packages (from ipython->qiskit-textbook==0.1.0) (0.1.4)\n",
      "Requirement already satisfied: pygments in ./venv/lib/python3.10/site-packages (from ipython->qiskit-textbook==0.1.0) (2.11.2)\n",
      "Requirement already satisfied: decorator in ./venv/lib/python3.10/site-packages (from ipython->qiskit-textbook==0.1.0) (5.1.1)\n",
      "Requirement already satisfied: backcall in ./venv/lib/python3.10/site-packages (from ipython->qiskit-textbook==0.1.0) (0.2.0)\n",
      "Requirement already satisfied: appnope in ./venv/lib/python3.10/site-packages (from ipython->qiskit-textbook==0.1.0) (0.1.2)\n",
      "Requirement already satisfied: jedi>=0.16 in ./venv/lib/python3.10/site-packages (from ipython->qiskit-textbook==0.1.0) (0.18.1)\n",
      "Requirement already satisfied: setuptools>=18.5 in ./venv/lib/python3.10/site-packages (from ipython->qiskit-textbook==0.1.0) (60.5.0)\n",
      "Requirement already satisfied: black in ./venv/lib/python3.10/site-packages (from ipython->qiskit-textbook==0.1.0) (22.1.0)\n",
      "Requirement already satisfied: pickleshare in ./venv/lib/python3.10/site-packages (from ipython->qiskit-textbook==0.1.0) (0.7.5)\n",
      "Collecting jupyterlab-widgets>=1.0.0\n",
      "  Using cached jupyterlab_widgets-1.0.2-py3-none-any.whl (243 kB)\n",
      "Collecting ipython-genutils~=0.2.0\n",
      "  Using cached ipython_genutils-0.2.0-py2.py3-none-any.whl (26 kB)\n",
      "Collecting widgetsnbextension~=3.5.0\n",
      "  Using cached widgetsnbextension-3.5.2-py2.py3-none-any.whl (1.6 MB)\n",
      "Collecting nbformat>=4.2.0\n",
      "  Using cached nbformat-5.1.3-py3-none-any.whl (178 kB)\n",
      "Requirement already satisfied: ipykernel>=4.5.1 in ./venv/lib/python3.10/site-packages (from ipywidgets->qiskit-textbook==0.1.0) (6.9.0)\n",
      "Collecting fonttools>=4.22.0\n",
      "  Downloading fonttools-4.29.1-py3-none-any.whl (895 kB)\n",
      "\u001b[2K     \u001b[90m━━━━━━━━━━━━━━━━━━━━━━━━━━━━━━━━━━━━━━━\u001b[0m \u001b[32m895.5/895.5 KB\u001b[0m \u001b[31m2.1 MB/s\u001b[0m eta \u001b[36m0:00:00\u001b[0ma \u001b[36m0:00:01\u001b[0m\n",
      "\u001b[?25hCollecting pyparsing>=2.2.1\n",
      "  Using cached pyparsing-3.0.7-py3-none-any.whl (98 kB)\n",
      "Collecting kiwisolver>=1.0.1\n",
      "  Downloading kiwisolver-1.3.2-cp310-cp310-macosx_11_0_arm64.whl (59 kB)\n",
      "\u001b[2K     \u001b[90m━━━━━━━━━━━━━━━━━━━━━━━━━━━━━━━━━━━━━━━━\u001b[0m \u001b[32m59.4/59.4 KB\u001b[0m \u001b[31m1.3 MB/s\u001b[0m eta \u001b[36m0:00:00\u001b[0m\n",
      "\u001b[?25hCollecting packaging>=20.0\n",
      "  Using cached packaging-21.3-py3-none-any.whl (40 kB)\n",
      "Collecting cycler>=0.10\n",
      "  Downloading cycler-0.11.0-py3-none-any.whl (6.4 kB)\n",
      "Requirement already satisfied: python-dateutil>=2.7 in ./venv/lib/python3.10/site-packages (from matplotlib->qiskit-textbook==0.1.0) (2.8.2)\n",
      "Collecting pillow>=6.2.0\n",
      "  Downloading Pillow-9.0.1-1-cp310-cp310-macosx_11_0_arm64.whl (2.7 MB)\n",
      "\u001b[2K     \u001b[90m━━━━━━━━━━━━━━━━━━━━━━━━━━━━━━━━━━━━━━━━\u001b[0m \u001b[32m2.7/2.7 MB\u001b[0m \u001b[31m2.2 MB/s\u001b[0m eta \u001b[36m0:00:00\u001b[0m00:01\u001b[0m00:01\u001b[0m\n",
      "\u001b[?25hRequirement already satisfied: qiskit-terra==0.19.1 in ./venv/lib/python3.10/site-packages (from qiskit->qiskit-textbook==0.1.0) (0.19.1)\n",
      "Requirement already satisfied: qiskit-ignis==0.7.0 in ./venv/lib/python3.10/site-packages (from qiskit->qiskit-textbook==0.1.0) (0.7.0)\n",
      "Requirement already satisfied: qiskit-ibmq-provider==0.18.3 in ./venv/lib/python3.10/site-packages (from qiskit->qiskit-textbook==0.1.0) (0.18.3)\n",
      "Requirement already satisfied: qiskit-aer==0.10.2 in ./venv/lib/python3.10/site-packages (from qiskit->qiskit-textbook==0.1.0) (0.10.2)\n",
      "Requirement already satisfied: scipy>=1.0 in ./venv/lib/python3.10/site-packages (from qiskit-aer==0.10.2->qiskit->qiskit-textbook==0.1.0) (1.8.0)\n",
      "Requirement already satisfied: requests>=2.19 in ./venv/lib/python3.10/site-packages (from qiskit-ibmq-provider==0.18.3->qiskit->qiskit-textbook==0.1.0) (2.27.1)\n",
      "Requirement already satisfied: websocket-client>=1.0.1 in ./venv/lib/python3.10/site-packages (from qiskit-ibmq-provider==0.18.3->qiskit->qiskit-textbook==0.1.0) (1.2.3)\n",
      "Requirement already satisfied: requests-ntlm>=1.1.0 in ./venv/lib/python3.10/site-packages (from qiskit-ibmq-provider==0.18.3->qiskit->qiskit-textbook==0.1.0) (1.1.0)\n",
      "Requirement already satisfied: urllib3>=1.21.1 in ./venv/lib/python3.10/site-packages (from qiskit-ibmq-provider==0.18.3->qiskit->qiskit-textbook==0.1.0) (1.26.8)\n",
      "Requirement already satisfied: retworkx>=0.8.0 in ./venv/lib/python3.10/site-packages (from qiskit-ignis==0.7.0->qiskit->qiskit-textbook==0.1.0) (0.11.0)\n",
      "Requirement already satisfied: stevedore>=3.0.0 in ./venv/lib/python3.10/site-packages (from qiskit-terra==0.19.1->qiskit->qiskit-textbook==0.1.0) (3.5.0)\n",
      "Requirement already satisfied: python-constraint>=1.4 in ./venv/lib/python3.10/site-packages (from qiskit-terra==0.19.1->qiskit->qiskit-textbook==0.1.0) (1.4.0)\n",
      "Requirement already satisfied: tweedledum<2.0,>=1.1 in ./venv/lib/python3.10/site-packages (from qiskit-terra==0.19.1->qiskit->qiskit-textbook==0.1.0) (1.1.1)\n",
      "Requirement already satisfied: psutil>=5 in ./venv/lib/python3.10/site-packages (from qiskit-terra==0.19.1->qiskit->qiskit-textbook==0.1.0) (5.9.0)\n",
      "Requirement already satisfied: dill>=0.3 in ./venv/lib/python3.10/site-packages (from qiskit-terra==0.19.1->qiskit->qiskit-textbook==0.1.0) (0.3.4)\n",
      "Requirement already satisfied: ply>=3.10 in ./venv/lib/python3.10/site-packages (from qiskit-terra==0.19.1->qiskit->qiskit-textbook==0.1.0) (3.11)\n",
      "Requirement already satisfied: sympy>=1.3 in ./venv/lib/python3.10/site-packages (from qiskit-terra==0.19.1->qiskit->qiskit-textbook==0.1.0) (1.9)\n",
      "Requirement already satisfied: symengine>=0.8 in ./venv/lib/python3.10/site-packages (from qiskit-terra==0.19.1->qiskit->qiskit-textbook==0.1.0) (0.8.1)\n",
      "Requirement already satisfied: jupyter-client<8.0 in ./venv/lib/python3.10/site-packages (from ipykernel>=4.5.1->ipywidgets->qiskit-textbook==0.1.0) (7.1.2)\n",
      "Requirement already satisfied: tornado<7.0,>=4.2 in ./venv/lib/python3.10/site-packages (from ipykernel>=4.5.1->ipywidgets->qiskit-textbook==0.1.0) (6.1)\n",
      "Requirement already satisfied: nest-asyncio in ./venv/lib/python3.10/site-packages (from ipykernel>=4.5.1->ipywidgets->qiskit-textbook==0.1.0) (1.5.4)\n",
      "Requirement already satisfied: debugpy<2.0,>=1.0.0 in ./venv/lib/python3.10/site-packages (from ipykernel>=4.5.1->ipywidgets->qiskit-textbook==0.1.0) (1.5.1)\n",
      "Requirement already satisfied: parso<0.9.0,>=0.8.0 in ./venv/lib/python3.10/site-packages (from jedi>=0.16->ipython->qiskit-textbook==0.1.0) (0.8.3)\n",
      "Requirement already satisfied: jupyter-core in ./venv/lib/python3.10/site-packages (from nbformat>=4.2.0->ipywidgets->qiskit-textbook==0.1.0) (4.9.1)\n",
      "Collecting jsonschema!=2.5.0,>=2.4\n",
      "  Using cached jsonschema-4.4.0-py3-none-any.whl (72 kB)\n",
      "Requirement already satisfied: ptyprocess>=0.5 in ./venv/lib/python3.10/site-packages (from pexpect>4.3->ipython->qiskit-textbook==0.1.0) (0.7.0)\n",
      "Requirement already satisfied: wcwidth in ./venv/lib/python3.10/site-packages (from prompt-toolkit!=3.0.0,!=3.0.1,<3.1.0,>=2.0.0->ipython->qiskit-textbook==0.1.0) (0.2.5)\n",
      "Requirement already satisfied: six>=1.5 in ./venv/lib/python3.10/site-packages (from python-dateutil>=2.7->matplotlib->qiskit-textbook==0.1.0) (1.16.0)\n",
      "Collecting notebook>=4.4.1\n",
      "  Using cached notebook-6.4.8-py3-none-any.whl (9.9 MB)\n",
      "Requirement already satisfied: tomli>=1.1.0 in ./venv/lib/python3.10/site-packages (from black->ipython->qiskit-textbook==0.1.0) (2.0.0)\n",
      "Requirement already satisfied: click>=8.0.0 in ./venv/lib/python3.10/site-packages (from black->ipython->qiskit-textbook==0.1.0) (8.0.3)\n",
      "Requirement already satisfied: mypy-extensions>=0.4.3 in ./venv/lib/python3.10/site-packages (from black->ipython->qiskit-textbook==0.1.0) (0.4.3)\n",
      "Requirement already satisfied: pathspec>=0.9.0 in ./venv/lib/python3.10/site-packages (from black->ipython->qiskit-textbook==0.1.0) (0.9.0)\n",
      "Requirement already satisfied: platformdirs>=2 in ./venv/lib/python3.10/site-packages (from black->ipython->qiskit-textbook==0.1.0) (2.4.1)\n",
      "Requirement already satisfied: executing in ./venv/lib/python3.10/site-packages (from stack-data->ipython->qiskit-textbook==0.1.0) (0.8.2)\n",
      "Requirement already satisfied: pure-eval in ./venv/lib/python3.10/site-packages (from stack-data->ipython->qiskit-textbook==0.1.0) (0.2.2)\n",
      "Requirement already satisfied: asttokens in ./venv/lib/python3.10/site-packages (from stack-data->ipython->qiskit-textbook==0.1.0) (2.0.5)\n",
      "Collecting attrs>=17.4.0\n",
      "  Using cached attrs-21.4.0-py2.py3-none-any.whl (60 kB)\n",
      "Collecting pyrsistent!=0.17.0,!=0.17.1,!=0.17.2,>=0.14.0\n",
      "  Using cached pyrsistent-0.18.1-cp310-cp310-macosx_10_9_universal2.whl (81 kB)\n",
      "Requirement already satisfied: pyzmq>=13 in ./venv/lib/python3.10/site-packages (from jupyter-client<8.0->ipykernel>=4.5.1->ipywidgets->qiskit-textbook==0.1.0) (22.3.0)\n",
      "Requirement already satisfied: entrypoints in ./venv/lib/python3.10/site-packages (from jupyter-client<8.0->ipykernel>=4.5.1->ipywidgets->qiskit-textbook==0.1.0) (0.4)\n",
      "Collecting argon2-cffi\n",
      "  Using cached argon2_cffi-21.3.0-py3-none-any.whl (14 kB)\n",
      "Collecting nbconvert\n",
      "  Using cached nbconvert-6.4.1-py3-none-any.whl (557 kB)\n",
      "Collecting prometheus-client\n",
      "  Using cached prometheus_client-0.13.1-py3-none-any.whl (57 kB)\n",
      "Collecting Send2Trash>=1.8.0\n",
      "  Using cached Send2Trash-1.8.0-py3-none-any.whl (18 kB)\n",
      "Collecting terminado>=0.8.3\n",
      "  Using cached terminado-0.13.1-py3-none-any.whl (14 kB)\n",
      "Collecting jinja2\n",
      "  Using cached Jinja2-3.0.3-py3-none-any.whl (133 kB)\n",
      "Requirement already satisfied: idna<4,>=2.5 in ./venv/lib/python3.10/site-packages (from requests>=2.19->qiskit-ibmq-provider==0.18.3->qiskit->qiskit-textbook==0.1.0) (3.3)\n",
      "Requirement already satisfied: certifi>=2017.4.17 in ./venv/lib/python3.10/site-packages (from requests>=2.19->qiskit-ibmq-provider==0.18.3->qiskit->qiskit-textbook==0.1.0) (2021.10.8)\n",
      "Requirement already satisfied: charset-normalizer~=2.0.0 in ./venv/lib/python3.10/site-packages (from requests>=2.19->qiskit-ibmq-provider==0.18.3->qiskit->qiskit-textbook==0.1.0) (2.0.11)\n",
      "Requirement already satisfied: ntlm-auth>=1.0.2 in ./venv/lib/python3.10/site-packages (from requests-ntlm>=1.1.0->qiskit-ibmq-provider==0.18.3->qiskit->qiskit-textbook==0.1.0) (1.5.0)\n",
      "Requirement already satisfied: cryptography>=1.3 in ./venv/lib/python3.10/site-packages (from requests-ntlm>=1.1.0->qiskit-ibmq-provider==0.18.3->qiskit->qiskit-textbook==0.1.0) (36.0.1)\n",
      "Requirement already satisfied: pbr!=2.1.0,>=2.0.0 in ./venv/lib/python3.10/site-packages (from stevedore>=3.0.0->qiskit-terra==0.19.1->qiskit->qiskit-textbook==0.1.0) (5.8.1)\n",
      "Requirement already satisfied: mpmath>=0.19 in ./venv/lib/python3.10/site-packages (from sympy>=1.3->qiskit-terra==0.19.1->qiskit->qiskit-textbook==0.1.0) (1.2.1)\n",
      "Requirement already satisfied: cffi>=1.12 in ./venv/lib/python3.10/site-packages (from cryptography>=1.3->requests-ntlm>=1.1.0->qiskit-ibmq-provider==0.18.3->qiskit->qiskit-textbook==0.1.0) (1.15.0)\n",
      "Collecting argon2-cffi-bindings\n",
      "  Using cached argon2_cffi_bindings-21.2.0-cp38-abi3-macosx_10_9_universal2.whl (53 kB)\n",
      "Collecting MarkupSafe>=2.0\n",
      "  Using cached MarkupSafe-2.0.1-cp310-cp310-macosx_10_9_universal2.whl (18 kB)\n",
      "Collecting jupyterlab-pygments\n",
      "  Using cached jupyterlab_pygments-0.1.2-py2.py3-none-any.whl (4.6 kB)\n",
      "Collecting mistune<2,>=0.8.1\n",
      "  Using cached mistune-0.8.4-py2.py3-none-any.whl (16 kB)\n",
      "Collecting bleach\n",
      "  Using cached bleach-4.1.0-py2.py3-none-any.whl (157 kB)\n",
      "Collecting testpath\n",
      "  Using cached testpath-0.5.0-py3-none-any.whl (84 kB)\n",
      "Collecting pandocfilters>=1.4.1\n",
      "  Using cached pandocfilters-1.5.0-py2.py3-none-any.whl (8.7 kB)\n",
      "Collecting defusedxml\n",
      "  Using cached defusedxml-0.7.1-py2.py3-none-any.whl (25 kB)\n",
      "Collecting nbclient<0.6.0,>=0.5.0\n",
      "  Using cached nbclient-0.5.10-py3-none-any.whl (69 kB)\n",
      "Requirement already satisfied: pycparser in ./venv/lib/python3.10/site-packages (from cffi>=1.12->cryptography>=1.3->requests-ntlm>=1.1.0->qiskit-ibmq-provider==0.18.3->qiskit->qiskit-textbook==0.1.0) (2.21)\n",
      "Collecting webencodings\n",
      "  Using cached webencodings-0.5.1-py2.py3-none-any.whl (11 kB)\n",
      "Building wheels for collected packages: qiskit-textbook\n",
      "  Building wheel for qiskit-textbook (setup.py) ... \u001b[?25ldone\n",
      "\u001b[?25h  Created wheel for qiskit-textbook: filename=qiskit_textbook-0.1.0-py3-none-any.whl size=16948 sha256=bb2d0307a660fb7b4a3c50faf3ee5c39bd3befd48845bc11f23615c436677768\n",
      "  Stored in directory: /private/var/folders/ry/r90yl__s79q35dhf4kd169vh0000gn/T/pip-ephem-wheel-cache-ouhyuw5j/wheels/a4/af/1e/358474758f89b7223d73e3a3b05d32a15554fede054868448c\n",
      "Successfully built qiskit-textbook\n",
      "Installing collected packages: webencodings, Send2Trash, mistune, ipython-genutils, testpath, terminado, pyrsistent, pyparsing, prometheus-client, pillow, pandocfilters, MarkupSafe, kiwisolver, jupyterlab-widgets, jupyterlab-pygments, fonttools, defusedxml, cycler, attrs, packaging, jsonschema, jinja2, argon2-cffi-bindings, nbformat, matplotlib, bleach, argon2-cffi, nbclient, nbconvert, notebook, widgetsnbextension, ipywidgets, qiskit-textbook\n",
      "Successfully installed MarkupSafe-2.0.1 Send2Trash-1.8.0 argon2-cffi-21.3.0 argon2-cffi-bindings-21.2.0 attrs-21.4.0 bleach-4.1.0 cycler-0.11.0 defusedxml-0.7.1 fonttools-4.29.1 ipython-genutils-0.2.0 ipywidgets-7.6.5 jinja2-3.0.3 jsonschema-4.4.0 jupyterlab-pygments-0.1.2 jupyterlab-widgets-1.0.2 kiwisolver-1.3.2 matplotlib-3.5.1 mistune-0.8.4 nbclient-0.5.10 nbconvert-6.4.1 nbformat-5.1.3 notebook-6.4.8 packaging-21.3 pandocfilters-1.5.0 pillow-9.0.1 prometheus-client-0.13.1 pyparsing-3.0.7 pyrsistent-0.18.1 qiskit-textbook-0.1.0 terminado-0.13.1 testpath-0.5.0 webencodings-0.5.1 widgetsnbextension-3.5.2\n",
      "Note: you may need to restart the kernel to use updated packages.\n"
     ]
    }
   ],
   "source": []
  },
  {
   "cell_type": "code",
   "execution_count": null,
   "metadata": {},
   "outputs": [],
   "source": []
  },
  {
   "cell_type": "code",
   "execution_count": null,
   "metadata": {},
   "outputs": [],
   "source": []
  },
  {
   "cell_type": "code",
   "execution_count": 2,
   "metadata": {},
   "outputs": [
    {
     "name": "stdout",
     "output_type": "stream",
     "text": [
      "Collecting git+https://github.com/qiskit-community/qiskit-textbook.git#subdirectory=qiskit-textbook-src\n",
      "  Cloning https://github.com/qiskit-community/qiskit-textbook.git to /private/var/folders/ry/r90yl__s79q35dhf4kd169vh0000gn/T/pip-req-build-obs04ehd\n",
      "  Running command git clone --filter=blob:none --quiet https://github.com/qiskit-community/qiskit-textbook.git /private/var/folders/ry/r90yl__s79q35dhf4kd169vh0000gn/T/pip-req-build-obs04ehd\n",
      "^C\n",
      "\u001b[31mERROR: Operation cancelled by user\u001b[0m\u001b[31m\n",
      "\u001b[0mNote: you may need to restart the kernel to use updated packages.\n"
     ]
    }
   ],
   "source": []
  },
  {
   "cell_type": "code",
   "execution_count": 5,
   "metadata": {},
   "outputs": [],
   "source": [
    "from qiskit import QuantumCircuit, assemble, Aer\n",
    "from qiskit.visualization import plot_histogram\n",
    "from qiskit.visualization import array_to_latex"
   ]
  },
  {
   "cell_type": "code",
   "execution_count": 4,
   "metadata": {},
   "outputs": [
    {
     "data": {
      "image/png": "[encoded data removed]",
      "text/plain": [
       "<Figure size 678.291x565.88 with 1 Axes>"
      ]
     },
     "execution_count": 4,
     "metadata": {},
     "output_type": "execute_result"
    }
   ],
   "source": [
    "qc_output = QuantumCircuit(8)\n",
    "qc_output.measure_all()\n",
    "qc_output.draw(output=\"mpl\", initial_state=True) "
   ]
  },
  {
   "cell_type": "code",
   "execution_count": 21,
   "metadata": {},
   "outputs": [
    {
     "data": {
      "image/png": "[encoded data removed]",
      "text/plain": [
       "<Figure size 250.695x144.48 with 1 Axes>"
      ]
     },
     "execution_count": 21,
     "metadata": {},
     "output_type": "execute_result"
    }
   ],
   "source": [
    "qc = QuantumCircuit(2)\n",
    "# Apply H-gate to the first:\n",
    "qc.h(0)\n",
    "qc.x(1)\n",
    "qc.cx(0,1)\n",
    "qc.draw(output=\"mpl\", initial_state=True)\n"
   ]
  },
  {
   "cell_type": "code",
   "execution_count": 22,
   "metadata": {},
   "outputs": [
    {
     "data": {
      "text/latex": [
       "$$\n",
       "\\text{Circuit = } \n",
       "\\begin{bmatrix}\n",
       "0 & 0 & \\tfrac{1}{\\sqrt{2}} & \\tfrac{1}{\\sqrt{2}}  \\\\\n",
       " \\tfrac{1}{\\sqrt{2}} & -\\tfrac{1}{\\sqrt{2}} & 0 & 0  \\\\\n",
       " \\tfrac{1}{\\sqrt{2}} & \\tfrac{1}{\\sqrt{2}} & 0 & 0  \\\\\n",
       " 0 & 0 & \\tfrac{1}{\\sqrt{2}} & -\\tfrac{1}{\\sqrt{2}}  \\\\\n",
       " \\end{bmatrix}\n",
       "$$"
      ],
      "text/plain": [
       "<IPython.core.display.Latex object>"
      ]
     },
     "execution_count": 22,
     "metadata": {},
     "output_type": "execute_result"
    }
   ],
   "source": [
    "usim = Aer.get_backend('aer_simulator')\n",
    "qc.save_unitary()\n",
    "qobj = assemble(qc)\n",
    "unitary = usim.run(qobj).result().get_unitary()\n",
    "# Display the results:\n",
    "array_to_latex(unitary, prefix=\"\\\\text{Circuit = } \")"
   ]
  },
  {
   "cell_type": "code",
   "execution_count": 19,
   "metadata": {},
   "outputs": [
    {
     "data": {
      "text/latex": [
       "$$\n",
       "\\text{Statevector = }\n",
       "\\begin{bmatrix}\n",
       "0 & \\tfrac{1}{\\sqrt{2}} & \\tfrac{1}{\\sqrt{2}} & 0  \\\\\n",
       " \\end{bmatrix}\n",
       "$$"
      ],
      "text/plain": [
       "<IPython.core.display.Latex object>"
      ]
     },
     "execution_count": 19,
     "metadata": {},
     "output_type": "execute_result"
    }
   ],
   "source": [
    "# Let's see the result:\n",
    "svsim = Aer.get_backend('aer_simulator')\n",
    "qc.save_statevector()\n",
    "qobj = assemble(qc)\n",
    "final_state = svsim.run(qobj).result().get_statevector()\n",
    "# Print the statevector neatly:\n",
    "array_to_latex(final_state, prefix=\"\\\\text{Statevector = }\")"
   ]
  }
 ],
 "metadata": {
  "interpreter": {
   "hash": "81529fcd2fd4ed5afdebd32692775628ff8d7ed2aa0222f7e08e79ca610d0224"
  },
  "kernelspec": {
   "display_name": "Python 3.10.1 ('venv': venv)",
   "language": "python",
   "name": "python3"
  },
  "language_info": {
   "codemirror_mode": {
    "name": "ipython",
    "version": 3
   },
   "file_extension": ".py",
   "mimetype": "text/x-python",
   "name": "python",
   "nbconvert_exporter": "python",
   "pygments_lexer": "ipython3",
   "version": "3.10.2"
  },
  "orig_nbformat": 4
 },
 "nbformat": 4,
 "nbformat_minor": 2
}
