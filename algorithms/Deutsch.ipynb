{
 "cells": [
  {
   "cell_type": "code",
   "execution_count": 1,
   "id": "d7c8bd38",
   "metadata": {},
   "outputs": [
    {
     "name": "stdout",
     "output_type": "stream",
     "text": [
      "Imported Successfully\n"
     ]
    }
   ],
   "source": [
    "import matplotlib.pyplot as plt\n",
    "import numpy as np\n",
    "from qiskit import QuantumCircuit, Aer, transpile, assemble\n",
    "from qiskit.visualization import plot_histogram\n",
    "from numpy.random import randint\n",
    "import pandas as pd\n",
    "print(\"Imported Successfully\")"
   ]
  },
  {
   "cell_type": "code",
   "execution_count": 45,
   "id": "1564edee",
   "metadata": {},
   "outputs": [],
   "source": [
    "def d_oracle(case):\n",
    "    oracle = QuantumCircuit(2)\n",
    "    \n",
    "    # Do the output magic\n",
    "    oracle.x(1)\n",
    "    oracle.h(1)\n",
    "    \n",
    "    # randomly swap the whole output.\n",
    "    # this adds a possibility to return one of\n",
    "    # [f(0) = 0; f(1) = 0] or [f(0) = 1; f(1) = 1]\n",
    "    # in a constant case.\n",
    "    if bool(randint(2)):\n",
    "        oracle.x(1)\n",
    "    \n",
    "    # First, let's deal with the case in which oracle is balanced\n",
    "    if case == \"balanced\":\n",
    "        oracle.cx(0, 1)\n",
    "    # Case in which oracle is constant\n",
    "    if case == \"constant\":\n",
    "        pass\n",
    "    \n",
    "        \n",
    "    \n",
    "    oracle_gate = oracle.to_gate()\n",
    "    oracle_gate.name = \"Phase Oracle\" # To show when we display the circuit\n",
    "    return oracle_gate\n",
    "    "
   ]
  },
  {
   "cell_type": "code",
   "execution_count": 46,
   "id": "7d063b2a",
   "metadata": {},
   "outputs": [],
   "source": [
    "def d_algorithm(oracle):\n",
    "    dj_circuit = QuantumCircuit(2, 1)\n",
    "    \n",
    "    # input prepare\n",
    "    dj_circuit.h(0)\n",
    "    \n",
    "    dj_circuit.barrier()\n",
    "\n",
    "    # Let's append the oracle gate to our circuit:\n",
    "    dj_circuit.append(oracle, [0, 1])\n",
    "    \n",
    "    dj_circuit.barrier()\n",
    "    \n",
    "    # Finally, perform the H-gate again and measure:\n",
    "    dj_circuit.h(0)\n",
    "    dj_circuit.measure(0, 0)\n",
    "    \n",
    "    return dj_circuit"
   ]
  },
  {
   "cell_type": "code",
   "execution_count": 8,
   "id": "3f5c2588",
   "metadata": {},
   "outputs": [],
   "source": []
  },
  {
   "cell_type": "code",
   "execution_count": 54,
   "id": "3d17e5d2",
   "metadata": {},
   "outputs": [
    {
     "data": {
      "image/png": "[encoded data removed]",
      "text/plain": [
       "<Figure size 568.052x204.68 with 1 Axes>"
      ]
     },
     "execution_count": 54,
     "metadata": {},
     "output_type": "execute_result"
    }
   ],
   "source": [
    "# case = \"balanced\" if np.random.randint(2) == 0 else \"constant\"\n",
    "case = \"constant\"\n",
    "oracle_gate = d_oracle(case)\n",
    "circuit = d_algorithm(oracle_gate)\n",
    "circuit.draw(output=\"mpl\")"
   ]
  },
  {
   "cell_type": "code",
   "execution_count": 55,
   "id": "26171293",
   "metadata": {},
   "outputs": [
    {
     "name": "stdout",
     "output_type": "stream",
     "text": [
      "constant\n"
     ]
    },
    {
     "data": {
      "image/png": "[encoded data removed]",
      "text/plain": [
       "<Figure size 504x360 with 1 Axes>"
      ]
     },
     "execution_count": 55,
     "metadata": {},
     "output_type": "execute_result"
    }
   ],
   "source": [
    "aer_sim = Aer.get_backend('aer_simulator')\n",
    "qobj = assemble(transpile(circuit, aer_sim))\n",
    "results = aer_sim.run(qobj).result()\n",
    "answer = results.get_counts()\n",
    "\n",
    "print(case)\n",
    "plot_histogram(answer)"
   ]
  },
  {
   "cell_type": "code",
   "execution_count": null,
   "id": "1a56d40f",
   "metadata": {},
   "outputs": [],
   "source": []
  }
 ],
 "metadata": {
  "kernelspec": {
   "display_name": "Python 3 (ipykernel)",
   "language": "python",
   "name": "python3"
  },
  "language_info": {
   "codemirror_mode": {
    "name": "ipython",
    "version": 3
   },
   "file_extension": ".py",
   "mimetype": "text/x-python",
   "name": "python",
   "nbconvert_exporter": "python",
   "pygments_lexer": "ipython3",
   "version": "3.10.2"
  }
 },
 "nbformat": 4,
 "nbformat_minor": 5
}
