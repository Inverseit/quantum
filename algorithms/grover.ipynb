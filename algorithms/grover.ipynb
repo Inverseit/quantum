{
 "cells": [
  {
   "cell_type": "code",
   "execution_count": 12,
   "metadata": {},
   "outputs": [],
   "source": [
    "#initialization\n",
    "import matplotlib.pyplot as plt\n",
    "import numpy as np\n",
    "import math\n",
    "\n",
    "# importing Qiskit\n",
    "from qiskit import IBMQ, Aer, assemble, transpile\n",
    "from qiskit import QuantumCircuit, ClassicalRegister, QuantumRegister\n",
    "from qiskit.providers.ibmq import least_busy\n",
    "\n",
    "# import basic plot tools\n",
    "from qiskit.visualization import plot_histogram\n",
    "from qiskit_textbook.tools import vector2latex"
   ]
  },
  {
   "cell_type": "code",
   "execution_count": 13,
   "metadata": {},
   "outputs": [],
   "source": [
    "n = 4"
   ]
  },
  {
   "cell_type": "code",
   "execution_count": 14,
   "metadata": {},
   "outputs": [],
   "source": [
    "def apply_oracle(qc):\n",
    "    # Oracle\n",
    "    qc.h([2,3])\n",
    "    qc.ccx(0,1,2)\n",
    "    qc.h(2)\n",
    "    qc.x(2)\n",
    "    qc.x([1,3])\n",
    "    qc.ccx(0,2,3)\n",
    "    qc.x(2)\n",
    "    qc.h(3)\n",
    "    qc.x([1,3])\n",
    "    qc.h(2)\n",
    "    qc.mct([0,1,3],2)\n",
    "    qc.x([1,3])\n",
    "    qc.h(2)\n",
    "    qc.x(2)\n",
    "\n",
    "    return qc"
   ]
  },
  {
   "cell_type": "code",
   "execution_count": 5,
   "metadata": {},
   "outputs": [],
   "source": [
    "def diffuser(nqubits):\n",
    "    qc = QuantumCircuit(nqubits)\n",
    "    # Apply transformation |s> -> |00..0> (H-gates)\n",
    "    for qubit in range(nqubits):\n",
    "        qc.h(qubit)\n",
    "    # Apply transformation |00..0> -> |11..1> (X-gates)\n",
    "    for qubit in range(nqubits):\n",
    "        qc.x(qubit)\n",
    "    # Do multi-controlled-Z gate\n",
    "    qc.h(nqubits-1)\n",
    "    qc.mct(list(range(nqubits-1)), nqubits-1)  # multi-controlled-toffoli\n",
    "    qc.h(nqubits-1)\n",
    "    # Apply transformation |11..1> -> |00..0>\n",
    "    for qubit in range(nqubits):\n",
    "        qc.x(qubit)\n",
    "    # Apply transformation |00..0> -> |s>\n",
    "    for qubit in range(nqubits):\n",
    "        qc.h(qubit)\n",
    "    # We will return the diffuser as a gate\n",
    "    U_s = qc.to_gate()\n",
    "    U_s.name = \"U$_s$\"\n",
    "    return U_s"
   ]
  },
  {
   "cell_type": "code",
   "execution_count": 6,
   "metadata": {},
   "outputs": [],
   "source": [
    "def initialize_s(qc, qubits):\n",
    "    \"\"\"Apply a H-gate to 'qubits' in qc\"\"\"\n",
    "    for q in qubits:\n",
    "        qc.h(q)\n",
    "    return qc"
   ]
  },
  {
   "cell_type": "code",
   "execution_count": 11,
   "metadata": {},
   "outputs": [
    {
     "data": {
      "text/html": [
       "<pre style=\"word-wrap: normal;white-space: pre;background: #fff0;line-height: 1.1;font-family: &quot;Courier New&quot;,Courier,monospace\">        ┌───┐                                                  ┌────────┐ ░ ┌─┐»\n",
       "   q_0: ┤ H ├───────■──────────────■──────────────■────────────┤0       ├─░─┤M├»\n",
       "        ├───┤       │  ┌───┐┌───┐  │              │  ┌───┐     │        │ ░ └╥┘»\n",
       "   q_1: ┤ H ├───────■──┤ X ├┤ X ├──┼──────────────■──┤ X ├─────┤1       ├─░──╫─»\n",
       "        ├───┤┌───┐┌─┴─┐├───┤├───┤  │  ┌───┐┌───┐┌─┴─┐├───┤┌───┐│  U$_s$ │ ░  ║ »\n",
       "   q_2: ┤ H ├┤ H ├┤ X ├┤ H ├┤ X ├──■──┤ X ├┤ H ├┤ X ├┤ H ├┤ X ├┤2       ├─░──╫─»\n",
       "        ├───┤├───┤├───┤└───┘└───┘┌─┴─┐├───┤├───┤└─┬─┘├───┤└───┘│        │ ░  ║ »\n",
       "   q_3: ┤ H ├┤ H ├┤ X ├──────────┤ X ├┤ H ├┤ X ├──■──┤ X ├─────┤3       ├─░──╫─»\n",
       "        └───┘└───┘└───┘          └───┘└───┘└───┘     └───┘     └────────┘ ░  ║ »\n",
       "meas: 4/═════════════════════════════════════════════════════════════════════╩═»\n",
       "                                                                             0 »\n",
       "«                 \n",
       "«   q_0: ─────────\n",
       "«        ┌─┐      \n",
       "«   q_1: ┤M├──────\n",
       "«        └╥┘┌─┐   \n",
       "«   q_2: ─╫─┤M├───\n",
       "«         ║ └╥┘┌─┐\n",
       "«   q_3: ─╫──╫─┤M├\n",
       "«         ║  ║ └╥┘\n",
       "«meas: 4/═╩══╩══╩═\n",
       "«         1  2  3 </pre>"
      ],
      "text/plain": [
       "        ┌───┐                                                  ┌────────┐ ░ ┌─┐»\n",
       "   q_0: ┤ H ├───────■──────────────■──────────────■────────────┤0       ├─░─┤M├»\n",
       "        ├───┤       │  ┌───┐┌───┐  │              │  ┌───┐     │        │ ░ └╥┘»\n",
       "   q_1: ┤ H ├───────■──┤ X ├┤ X ├──┼──────────────■──┤ X ├─────┤1       ├─░──╫─»\n",
       "        ├───┤┌───┐┌─┴─┐├───┤├───┤  │  ┌───┐┌───┐┌─┴─┐├───┤┌───┐│  U$_s$ │ ░  ║ »\n",
       "   q_2: ┤ H ├┤ H ├┤ X ├┤ H ├┤ X ├──■──┤ X ├┤ H ├┤ X ├┤ H ├┤ X ├┤2       ├─░──╫─»\n",
       "        ├───┤├───┤├───┤└───┘└───┘┌─┴─┐├───┤├───┤└─┬─┘├───┤└───┘│        │ ░  ║ »\n",
       "   q_3: ┤ H ├┤ H ├┤ X ├──────────┤ X ├┤ H ├┤ X ├──■──┤ X ├─────┤3       ├─░──╫─»\n",
       "        └───┘└───┘└───┘          └───┘└───┘└───┘     └───┘     └────────┘ ░  ║ »\n",
       "meas: 4/═════════════════════════════════════════════════════════════════════╩═»\n",
       "                                                                             0 »\n",
       "«                 \n",
       "«   q_0: ─────────\n",
       "«        ┌─┐      \n",
       "«   q_1: ┤M├──────\n",
       "«        └╥┘┌─┐   \n",
       "«   q_2: ─╫─┤M├───\n",
       "«         ║ └╥┘┌─┐\n",
       "«   q_3: ─╫──╫─┤M├\n",
       "«         ║  ║ └╥┘\n",
       "«meas: 4/═╩══╩══╩═\n",
       "«         1  2  3 "
      ]
     },
     "execution_count": 11,
     "metadata": {},
     "output_type": "execute_result"
    }
   ],
   "source": [
    "grover_circuit = QuantumCircuit(n)\n",
    "all_qubits = list(range(n))\n",
    "grover_circuit = initialize_s(grover_circuit,all_qubits)\n",
    "grover_circuit = apply_oracle(grover_circuit)\n",
    "grover_circuit.draw(\"mpl\")\n",
    "grover_circuit.append(diffuser(n), all_qubits)\n",
    "grover_circuit.measure_all()\n",
    "grover_circuit.draw()"
   ]
  },
  {
   "cell_type": "code",
   "execution_count": 9,
   "metadata": {},
   "outputs": [
    {
     "name": "stdout",
     "output_type": "stream",
     "text": [
      "{'0110': 3, '1001': 2, '0010': 3, '0111': 3, '0101': 4, '0000': 4, '0011': 5, '0001': 5, '1111': 8, '1101': 6, '1011': 205, '1000': 197, '1110': 188, '0100': 3, '1100': 197, '1010': 191}\n"
     ]
    },
    {
     "data": {
      "image/png": "[encoded data removed]",
      "text/plain": [
       "<Figure size 504x360 with 1 Axes>"
      ]
     },
     "execution_count": 9,
     "metadata": {},
     "output_type": "execute_result"
    }
   ],
   "source": [
    "aer_sim = Aer.get_backend('aer_simulator')\n",
    "transpiled_grover_circuit = transpile(grover_circuit, aer_sim)\n",
    "qobj = assemble(transpiled_grover_circuit)\n",
    "results = aer_sim.run(qobj).result()\n",
    "counts = results.get_counts()\n",
    "print(counts)\n",
    "plot_histogram(counts)"
   ]
  },
  {
   "cell_type": "code",
   "execution_count": 22,
   "metadata": {},
   "outputs": [
    {
     "data": {
      "image/png": "[encoded data removed]",
      "text/plain": [
       "<Figure size 327.397x264.88 with 1 Axes>"
      ]
     },
     "execution_count": 22,
     "metadata": {},
     "output_type": "execute_result"
    }
   ],
   "source": [
    "def test():\n",
    "    qc = QuantumCircuit(n)\n",
    "    # Oracle\n",
    "    qc.h([2,3])\n",
    "    qc.ccx(0,1,2)\n",
    "    qc.h(2)\n",
    "    qc.x(2)\n",
    "    qc.x([1,3])\n",
    "    qc.ccx(0,2,3)\n",
    "    qc.x(2)\n",
    "    qc.h(3)\n",
    "    qc.x([1,3])\n",
    "    qc.h(2)\n",
    "    qc.mct([0,1,3],2)\n",
    "    qc.x([1,3])\n",
    "    qc.h(2)\n",
    "    qc.x(2)\n",
    "    \n",
    "    P_f = qc.to_gate()\n",
    "    P_f.name = \"P$_f$\"\n",
    "    return P_f\n",
    "\n",
    "\n",
    "grover_circuit = QuantumCircuit(n)\n",
    "all_qubits = list(range(n))\n",
    "grover_circuit = initialize_s(grover_circuit,all_qubits)\n",
    "grover_circuit.barrier()\n",
    "grover_circuit.append(test(), all_qubits)\n",
    "grover_circuit.barrier()\n",
    "\n",
    "grover_circuit.draw(\"mpl\")"
   ]
  },
  {
   "cell_type": "code",
   "execution_count": null,
   "metadata": {},
   "outputs": [],
   "source": []
  }
 ],
 "metadata": {
  "interpreter": {
   "hash": "81529fcd2fd4ed5afdebd32692775628ff8d7ed2aa0222f7e08e79ca610d0224"
  },
  "kernelspec": {
   "display_name": "Python 3 (ipykernel)",
   "language": "python",
   "name": "python3"
  },
  "language_info": {
   "codemirror_mode": {
    "name": "ipython",
    "version": 3
   },
   "file_extension": ".py",
   "mimetype": "text/x-python",
   "name": "python",
   "nbconvert_exporter": "python",
   "pygments_lexer": "ipython3",
   "version": "3.10.2"
  }
 },
 "nbformat": 4,
 "nbformat_minor": 2
}
