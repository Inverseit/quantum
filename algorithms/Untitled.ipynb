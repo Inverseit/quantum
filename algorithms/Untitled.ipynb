{
 "cells": [
  {
   "cell_type": "code",
   "execution_count": 1,
   "id": "01d8b717",
   "metadata": {},
   "outputs": [
    {
     "name": "stdout",
     "output_type": "stream",
     "text": [
      "Imported Successfully\n"
     ]
    }
   ],
   "source": [
    "import matplotlib.pyplot as plt\n",
    "import numpy as np\n",
    "from qiskit import QuantumCircuit, Aer, transpile, assemble\n",
    "from qiskit.visualization import plot_histogram\n",
    "from numpy.random import randint\n",
    "import pandas as pd\n",
    "print(\"Imported Successfully\")"
   ]
  },
  {
   "cell_type": "code",
   "execution_count": 3,
   "id": "344327e6",
   "metadata": {},
   "outputs": [],
   "source": [
    "n = 3"
   ]
  },
  {
   "cell_type": "code",
   "execution_count": 6,
   "id": "a861dc76",
   "metadata": {},
   "outputs": [],
   "source": [
    "def get_balanced(n, oracle_qc):\n",
    "    # First generate a random number that tells us which CNOTs to\n",
    "    # wrap in X-gates:\n",
    "    b = np.random.randint(1,2**n)\n",
    "    # Next, format 'b' as a binary string of length 'n', padded with zeros:\n",
    "    b_str = format(b, '0'+str(n)+'b')\n",
    "    # Next, we place the first X-gates. Each digit in our binary string \n",
    "    # corresponds to a qubit, if the digit is 0, we do nothing, if it's 1\n",
    "    # we apply an X-gate to that qubit:\n",
    "    for qubit in range(len(b_str)):\n",
    "        if b_str[qubit] == '1':\n",
    "            oracle_qc.x(qubit)\n",
    "    # Do the controlled-NOT gates for each qubit, using the output qubit as the target:\n",
    "    for qubit in range(n):\n",
    "        oracle_qc.cx(qubit, n)\n",
    "    # Next, place the final X-gates\n",
    "    for qubit in range(len(b_str)):\n",
    "        if b_str[qubit] == '1':\n",
    "            oracle_qc.x(qubit)\n",
    "    return oracle_qc"
   ]
  },
  {
   "cell_type": "code",
   "execution_count": 7,
   "id": "7945626e",
   "metadata": {},
   "outputs": [],
   "source": [
    "def get_constant(n, oracle_qc):\n",
    "    # (either always 0 or always 1)\n",
    "    output = np.random.randint(2)\n",
    "    if output == 1:\n",
    "        oracle_qc.x(n)\n",
    "    return oracle_qc"
   ]
  },
  {
   "cell_type": "code",
   "execution_count": 8,
   "id": "bad1a9bd",
   "metadata": {},
   "outputs": [],
   "source": [
    "def dj_oracle(n):\n",
    "    \n",
    "    case = \"balanced\" if np.random.randint(2) == 0 else \"constant\"\n",
    "    oracle_qc = QuantumCircuit(n+1)\n",
    "    \n",
    "    # First, let's deal with the case in which oracle is balanced\n",
    "    if case == \"balanced\":\n",
    "        oracle_qc = get_balanced(n, oracle_qc)\n",
    "\n",
    "    # Case in which oracle is constant\n",
    "    if case == \"constant\":\n",
    "        oracle_qc = get_constant(n, oracle_qc)\n",
    "        \n",
    "    \n",
    "    oracle_gate = oracle_qc.to_gate()\n",
    "    oracle_gate.name = \"Oracle\" # To show when we display the circuit\n",
    "    return (oracle_gate, case)"
   ]
  },
  {
   "cell_type": "code",
   "execution_count": 11,
   "id": "210de853",
   "metadata": {},
   "outputs": [],
   "source": [
    "def dj_algorithm(oracle, n):\n",
    "    dj_circuit = QuantumCircuit(n+1, n)\n",
    "    # Set up the output qubit:\n",
    "    dj_circuit.x(n)\n",
    "    dj_circuit.h(n)\n",
    "    # And set up the input register:\n",
    "    for qubit in range(n):\n",
    "        dj_circuit.h(qubit)\n",
    "    # Let's append the oracle gate to our circuit:\n",
    "    dj_circuit.append(oracle, range(n+1))\n",
    "    # Finally, perform the H-gates again and measure:\n",
    "    for qubit in range(n):\n",
    "        dj_circuit.h(qubit)\n",
    "    \n",
    "    for i in range(n):\n",
    "        dj_circuit.measure(i, i)\n",
    "    \n",
    "    return dj_circuit"
   ]
  },
  {
   "cell_type": "code",
   "execution_count": 23,
   "id": "b11f75f0",
   "metadata": {},
   "outputs": [
    {
     "data": {
      "image/png": "[encoded data removed]",
      "text/plain": [
       "<Figure size 568.197x325.08 with 1 Axes>"
      ]
     },
     "execution_count": 23,
     "metadata": {},
     "output_type": "execute_result"
    }
   ],
   "source": [
    "n = 3\n",
    "oracle_gate, case = dj_oracle(n)\n",
    "dj_circuit = dj_algorithm(oracle_gate, n)\n",
    "dj_circuit.draw(output=\"mpl\")"
   ]
  },
  {
   "cell_type": "code",
   "execution_count": 24,
   "id": "522e9ccb",
   "metadata": {},
   "outputs": [
    {
     "name": "stdout",
     "output_type": "stream",
     "text": [
      "balanced\n"
     ]
    },
    {
     "data": {
      "image/png": "[encoded data removed]",
      "text/plain": [
       "<Figure size 504x360 with 1 Axes>"
      ]
     },
     "execution_count": 24,
     "metadata": {},
     "output_type": "execute_result"
    }
   ],
   "source": [
    "aer_sim = Aer.get_backend('aer_simulator')\n",
    "transpiled_dj_circuit = transpile(dj_circuit, aer_sim)\n",
    "qobj = assemble(transpiled_dj_circuit)\n",
    "results = aer_sim.run(qobj).result()\n",
    "answer = results.get_counts()\n",
    "print(case)\n",
    "plot_histogram(answer)\n"
   ]
  },
  {
   "cell_type": "code",
   "execution_count": 19,
   "id": "a49f1660",
   "metadata": {},
   "outputs": [
    {
     "name": "stdout",
     "output_type": "stream",
     "text": [
      "constant\n"
     ]
    }
   ],
   "source": []
  },
  {
   "cell_type": "code",
   "execution_count": null,
   "id": "a34de433",
   "metadata": {},
   "outputs": [],
   "source": []
  }
 ],
 "metadata": {
  "kernelspec": {
   "display_name": "Python 3 (ipykernel)",
   "language": "python",
   "name": "python3"
  },
  "language_info": {
   "codemirror_mode": {
    "name": "ipython",
    "version": 3
   },
   "file_extension": ".py",
   "mimetype": "text/x-python",
   "name": "python",
   "nbconvert_exporter": "python",
   "pygments_lexer": "ipython3",
   "version": "3.10.2"
  }
 },
 "nbformat": 4,
 "nbformat_minor": 5
}
